{
 "cells": [
  {
   "cell_type": "markdown",
   "metadata": {},
   "source": [
    "Sort and Clean conference data.\n",
    "It writes to `sorted_data.yml` and `cleaned_data.yml`, copy those to the conference.yml after screening."
   ]
  },
  {
   "cell_type": "code",
   "execution_count": 1,
   "metadata": {
    "scrolled": true
   },
   "outputs": [],
   "source": [
    "import yaml\n",
    "import datetime\n",
    "import sys\n",
    "from shutil import copyfile\n",
    "from builtins import input\n",
    "import pytz"
   ]
  },
  {
   "cell_type": "code",
   "execution_count": 2,
   "metadata": {
    "scrolled": true
   },
   "outputs": [],
   "source": [
    "try:\n",
    "    # for python newer than 2.7\n",
    "    from collections import OrderedDict\n",
    "except ImportError:\n",
    "    # use backport from pypi\n",
    "    from ordereddict import OrderedDict\n",
    "\n",
    "try:\n",
    "    from yaml import CLoader as Loader, CDumper as Dumper\n",
    "except ImportError:\n",
    "    from yaml import Loader, Dumper\n",
    "from yaml.representer import SafeRepresenter\n",
    "_mapping_tag = yaml.resolver.BaseResolver.DEFAULT_MAPPING_TAG\n",
    "\n",
    "def dict_representer(dumper, data):\n",
    "    return dumper.represent_dict(data.iteritems())\n",
    "\n",
    "\n",
    "def dict_constructor(loader, node):\n",
    "    return OrderedDict(loader.construct_pairs(node))\n",
    "\n",
    "Dumper.add_representer(OrderedDict, dict_representer)\n",
    "Loader.add_constructor(_mapping_tag, dict_constructor)\n",
    "\n",
    "Dumper.add_representer(str,\n",
    "                       SafeRepresenter.represent_str)\n",
    "\n",
    "\n",
    "def ordered_dump(data, stream=None, Dumper=yaml.Dumper, **kwds):\n",
    "    class OrderedDumper(Dumper):\n",
    "        pass\n",
    "    def _dict_representer(dumper, data):\n",
    "        return dumper.represent_mapping(\n",
    "            yaml.resolver.BaseResolver.DEFAULT_MAPPING_TAG,\n",
    "            data.items())\n",
    "    OrderedDumper.add_representer(OrderedDict, _dict_representer)\n",
    "    return yaml.dump(data, stream, OrderedDumper, **kwds)\n",
    "\n",
    "dateformat = '%Y-%m-%d %H:%M:%S'\n",
    "tba_words = [\"tba\",\"tbd\"]\n",
    "\n",
    "right_now = datetime.datetime.utcnow().replace(microsecond=0).strftime(dateformat)"
   ]
  },
  {
   "cell_type": "code",
   "execution_count": 3,
   "metadata": {
    "scrolled": true
   },
   "outputs": [],
   "source": [
    "def query_yes_no(question, default=\"no\"):\n",
    "    \"\"\"Ask a yes/no question via input() and return their answer.\n",
    "\n",
    "    \"question\" is a string that is presented to the user.\n",
    "    \"default\" is the presumed answer if the user just hits <Enter>.\n",
    "        It must be \"yes\" (the default), \"no\" or None (meaning\n",
    "        an answer is required of the user).\n",
    "\n",
    "    The \"answer\" return value is True for \"yes\" or False for \"no\".\n",
    "    \"\"\"\n",
    "    valid = {\"yes\": True, \"y\": True, \"ye\": True,\n",
    "             \"no\": False, \"n\": False}\n",
    "    if default is None:\n",
    "        prompt = \" [y/n] \"\n",
    "    elif default == \"yes\":\n",
    "        prompt = \" [Y/n] \"\n",
    "    elif default == \"no\":\n",
    "        prompt = \" [y/N] \"\n",
    "    else:\n",
    "        raise ValueError(\"invalid default answer: '%s'\" % default)\n",
    "\n",
    "    while True:\n",
    "        sys.stdout.write(question + prompt)\n",
    "        choice = input().lower()\n",
    "        if default is not None and choice == '':\n",
    "            return valid[default]\n",
    "        elif choice in valid:\n",
    "            return valid[choice]\n",
    "        else:\n",
    "            sys.stdout.write(\"Please respond with 'yes' or 'no' \"\n",
    "                             \"(or 'y' or 'n').\\n\")"
   ]
  },
  {
   "cell_type": "code",
   "execution_count": 4,
   "metadata": {
    "scrolled": true
   },
   "outputs": [
    {
     "name": "stdout",
     "output_type": "stream",
     "text": [
      "Initial Sorting:\n",
      "2018-03-02 23:59:59  -  Seismic Characterisation of Carbonate Platforms and Reservoirs\n",
      "2018-03-06 23:59:59  -  SPE Argentina Exploration and Production of Unconventional Resources Symposium\n",
      "2018-03-16 23:59:59  -  SPE Russian Petroleum Technology Conference\n",
      "2018-03-18 23:59:59  -  SPE International Hydraulic Fracturing Technology Conference and Exhibition\n",
      "2018-03-31 23:59:59  -  AAPG ICE 2018\n",
      "2018-04-01 16:59:59  -  SEG Annual Meeting 2018\n",
      "2018-04-15 23:59:59  -  Near Surface Geoscience Conference & Exhibition 2018\n",
      "2018-04-23 23:59:59  -  SPE Annual Caspian Technical Conference & Exhibition\n",
      "2018-05-01 23:59:59  -  The Abu Dhabi International Petroleum Exhibition & Conference (ADIPEC)\n",
      "2018-05-10 23:59:59  -  EAGE Workshop on 4D Seismic and Reservoir Monitoring\n",
      "2018-05-31 23:59:59  -  International Petroleum Technology Conference (IPTC)\n",
      "2018-08-01 23:59:59  -  AGU Fall Meeting 2018\n",
      "2018-08-18 00:00:00  -  International Conference on Geosciences and Environmental Geology\n",
      "2019-01-15 23:59:59  -  81st EAGE Conference and Exhibition 2019\n",
      "2018-01-10 12:59:59  -  EGU General Assembly 2018\n",
      "\n",
      "\n",
      "\n",
      "Date Sorting:\n",
      "2018-01-10 12:59:59  -  EGU General Assembly 2018\n",
      "2018-03-02 23:59:59  -  Seismic Characterisation of Carbonate Platforms and Reservoirs\n",
      "2018-03-06 23:59:59  -  SPE Argentina Exploration and Production of Unconventional Resources Symposium\n",
      "2018-03-16 23:59:59  -  SPE Russian Petroleum Technology Conference\n",
      "2018-03-18 23:59:59  -  SPE International Hydraulic Fracturing Technology Conference and Exhibition\n",
      "2018-03-31 23:59:59  -  AAPG ICE 2018\n",
      "2018-04-01 16:59:59  -  SEG Annual Meeting 2018\n",
      "2018-04-15 23:59:59  -  Near Surface Geoscience Conference & Exhibition 2018\n",
      "2018-04-23 23:59:59  -  SPE Annual Caspian Technical Conference & Exhibition\n",
      "2018-05-01 23:59:59  -  The Abu Dhabi International Petroleum Exhibition & Conference (ADIPEC)\n",
      "2018-05-10 23:59:59  -  EAGE Workshop on 4D Seismic and Reservoir Monitoring\n",
      "2018-05-31 23:59:59  -  International Petroleum Technology Conference (IPTC)\n",
      "2018-08-01 23:59:59  -  AGU Fall Meeting 2018\n",
      "2018-08-18 00:00:00  -  International Conference on Geosciences and Environmental Geology\n",
      "2019-01-15 23:59:59  -  81st EAGE Conference and Exhibition 2019\n",
      "\n",
      "\n",
      "\n",
      "Date and Passed Deadline Sorting with tba:\n",
      "2018-03-02 23:59:59  -  Seismic Characterisation of Carbonate Platforms and Reservoirs\n",
      "2018-03-06 23:59:59  -  SPE Argentina Exploration and Production of Unconventional Resources Symposium\n",
      "2018-03-16 23:59:59  -  SPE Russian Petroleum Technology Conference\n",
      "2018-03-18 23:59:59  -  SPE International Hydraulic Fracturing Technology Conference and Exhibition\n",
      "2018-03-31 23:59:59  -  AAPG ICE 2018\n",
      "2018-04-01 16:59:59  -  SEG Annual Meeting 2018\n",
      "2018-04-15 23:59:59  -  Near Surface Geoscience Conference & Exhibition 2018\n",
      "2018-04-23 23:59:59  -  SPE Annual Caspian Technical Conference & Exhibition\n",
      "2018-05-01 23:59:59  -  The Abu Dhabi International Petroleum Exhibition & Conference (ADIPEC)\n",
      "2018-05-10 23:59:59  -  EAGE Workshop on 4D Seismic and Reservoir Monitoring\n",
      "2018-05-31 23:59:59  -  International Petroleum Technology Conference (IPTC)\n",
      "2018-08-01 23:59:59  -  AGU Fall Meeting 2018\n",
      "2018-08-18 00:00:00  -  International Conference on Geosciences and Environmental Geology\n",
      "2019-01-15 23:59:59  -  81st EAGE Conference and Exhibition 2019\n",
      "2018-01-10 12:59:59  -  EGU General Assembly 2018\n",
      "\n",
      "\n",
      "\n"
     ]
    }
   ],
   "source": [
    "with open(\"../_data/conferences.yml\", 'r') as stream:\n",
    "    try:\n",
    "        data = yaml.load(stream, Loader=Loader)\n",
    "        print(\"Initial Sorting:\")\n",
    "        for q in data:\n",
    "            print(q[\"deadline\"],\" - \",q[\"name\"])\n",
    "        print(\"\\n\\n\")\n",
    "        conf = [x for x in data if x['deadline'].lower() not in tba_words]\n",
    "        tba  = [x for x in data if x['deadline'].lower() in tba_words]\n",
    "        \n",
    "        \n",
    "        \n",
    "        # just sort:\n",
    "        conf.sort(key=lambda x: pytz.utc.normalize(datetime.datetime.strptime(x['deadline'], dateformat).replace(tzinfo=pytz.timezone(x['timezone']))))\n",
    "        print(\"Date Sorting:\")\n",
    "        for q in conf+tba:\n",
    "            print(q[\"deadline\"],\" - \",q[\"name\"])\n",
    "        print(\"\\n\\n\")\n",
    "        conf.sort(key=lambda x: pytz.utc.normalize(datetime.datetime.strptime(x['deadline'], dateformat).replace(tzinfo=pytz.timezone(x['timezone']))).strftime(dateformat) < right_now)\n",
    "        print(\"Date and Passed Deadline Sorting with tba:\")\n",
    "        for q in conf+tba:\n",
    "            print(q[\"deadline\"],\" - \",q[\"name\"])\n",
    "        print(\"\\n\\n\")     \n",
    "        \n",
    "        with open('sorted_data.yml', 'w') as outfile:\n",
    "            for line in ordered_dump(conf+tba, Dumper=yaml.SafeDumper, default_flow_style=False, explicit_start=True).replace('\\'', '\"').splitlines():\n",
    "                outfile.write('\\n')\n",
    "                outfile.write(line.replace('- name:', '\\n- name:'))\n",
    "    except yaml.YAMLError as exc:\n",
    "        print(exc)"
   ]
  },
  {
   "cell_type": "code",
   "execution_count": 5,
   "metadata": {
    "scrolled": true
   },
   "outputs": [
    {
     "name": "stdout",
     "output_type": "stream",
     "text": [
      "Did you check the sorted data and would like to replace the original data? [y/N] y\n"
     ]
    }
   ],
   "source": [
    "if query_yes_no(\"Did you check the sorted data and would like to replace the original data?\"):\n",
    "    copyfile('sorted_data.yml','../_data/conferences.yml')"
   ]
  },
  {
   "cell_type": "code",
   "execution_count": 6,
   "metadata": {
    "scrolled": true
   },
   "outputs": [
    {
     "name": "stdout",
     "output_type": "stream",
     "text": [
      "Initial Data:\n",
      "2018-03-02 23:59:59  -  Seismic Characterisation of Carbonate Platforms and Reservoirs\n",
      "2018-03-06 23:59:59  -  SPE Argentina Exploration and Production of Unconventional Resources Symposium\n",
      "2018-03-16 23:59:59  -  SPE Russian Petroleum Technology Conference\n",
      "2018-03-18 23:59:59  -  SPE International Hydraulic Fracturing Technology Conference and Exhibition\n",
      "2018-03-31 23:59:59  -  AAPG ICE 2018\n",
      "2018-04-01 16:59:59  -  SEG Annual Meeting 2018\n",
      "2018-04-15 23:59:59  -  Near Surface Geoscience Conference & Exhibition 2018\n",
      "2018-04-23 23:59:59  -  SPE Annual Caspian Technical Conference & Exhibition\n",
      "2018-05-01 23:59:59  -  The Abu Dhabi International Petroleum Exhibition & Conference (ADIPEC)\n",
      "2018-05-10 23:59:59  -  EAGE Workshop on 4D Seismic and Reservoir Monitoring\n",
      "2018-05-31 23:59:59  -  International Petroleum Technology Conference (IPTC)\n",
      "2018-08-01 23:59:59  -  AGU Fall Meeting 2018\n",
      "2018-08-18 00:00:00  -  International Conference on Geosciences and Environmental Geology\n",
      "2019-01-15 23:59:59  -  81st EAGE Conference and Exhibition 2019\n",
      "2018-01-10 12:59:59  -  EGU General Assembly 2018\n",
      "\n",
      "\n",
      "\n",
      "\n",
      "\n",
      "\n",
      "Cleaned Data:\n",
      "2018-03-02 23:59:59  -  Seismic Characterisation of Carbonate Platforms and Reservoirs\n",
      "2018-03-06 23:59:59  -  SPE Argentina Exploration and Production of Unconventional Resources Symposium\n",
      "2018-03-16 23:59:59  -  SPE Russian Petroleum Technology Conference\n",
      "2018-03-18 23:59:59  -  SPE International Hydraulic Fracturing Technology Conference and Exhibition\n",
      "2018-03-31 23:59:59  -  AAPG ICE 2018\n",
      "2018-04-01 16:59:59  -  SEG Annual Meeting 2018\n",
      "2018-04-15 23:59:59  -  Near Surface Geoscience Conference & Exhibition 2018\n",
      "2018-04-23 23:59:59  -  SPE Annual Caspian Technical Conference & Exhibition\n",
      "2018-05-01 23:59:59  -  The Abu Dhabi International Petroleum Exhibition & Conference (ADIPEC)\n",
      "2018-05-10 23:59:59  -  EAGE Workshop on 4D Seismic and Reservoir Monitoring\n",
      "2018-05-31 23:59:59  -  International Petroleum Technology Conference (IPTC)\n",
      "2018-08-01 23:59:59  -  AGU Fall Meeting 2018\n",
      "2018-08-18 00:00:00  -  International Conference on Geosciences and Environmental Geology\n",
      "2019-01-15 23:59:59  -  81st EAGE Conference and Exhibition 2019\n",
      "2018-01-10 12:59:59  -  EGU General Assembly 2018\n"
     ]
    }
   ],
   "source": [
    "with open('sorted_data.yml', 'r') as stream:\n",
    "    try:\n",
    "        conf = yaml.load(stream, Loader=Loader)\n",
    "        print(\"Initial Data:\")\n",
    "        for q in conf:\n",
    "            print(q[\"deadline\"],\" - \",q[\"name\"])\n",
    "        print(\"\\n\\n\")   \n",
    "        clean_conf = []\n",
    "        for q in conf:\n",
    "            dates,year=q[\"date\"].split(\",\")\n",
    "            start_date = dates.strip().split(\" \")[0].strip()+\" \"+dates.split(\"-\")[1].strip()+\" \"+year.strip()\n",
    "            try:\n",
    "                datetime.datetime.strptime(start_date, \"%B %d %Y\").strftime(dateformat)\n",
    "            except ValueError:\n",
    "                start_date = dates.split(\"-\")[1].strip()+\" \"+year.strip()\n",
    "            if datetime.datetime.strptime(start_date, \"%B %d %Y\").strftime(dateformat) >= right_now:\n",
    "                clean_conf.append(q)\n",
    "            else:\n",
    "                print(\"Passed: \"+q[\"deadline\"],\" - \",q[\"name\"])\n",
    "        print(\"\\n\\n\")\n",
    "        print(\"Cleaned Data:\")\n",
    "        for q in clean_conf:\n",
    "            print(q[\"deadline\"],\" - \",q[\"name\"])\n",
    "        with open('cleaned_data.yml', 'w') as outfile:\n",
    "            for line in ordered_dump(clean_conf, Dumper=yaml.SafeDumper, default_flow_style=False, explicit_start=True).replace('\\'', '\"').splitlines():\n",
    "                outfile.write('\\n')\n",
    "                outfile.write(line.replace('- name:', '\\n- name:'))\n",
    "    except yaml.YAMLError as exc:\n",
    "        print(exc)"
   ]
  },
  {
   "cell_type": "code",
   "execution_count": 7,
   "metadata": {
    "scrolled": true
   },
   "outputs": [
    {
     "name": "stdout",
     "output_type": "stream",
     "text": [
      "Did you check the cleaned data and would like to replace the original data? [y/N] y\n"
     ]
    }
   ],
   "source": [
    "if query_yes_no(\"Did you check the cleaned data and would like to replace the original data?\"):\n",
    "    copyfile('cleaned_data.yml','../_data/conferences.yml')"
   ]
  },
  {
   "cell_type": "markdown",
   "metadata": {},
   "source": [
    "Thanks to https://gist.github.com/oglops/c70fb69eef42d40bed06"
   ]
  }
 ],
 "metadata": {
  "kernelspec": {
   "display_name": "Python 3",
   "language": "python",
   "name": "python3"
  },
  "language_info": {
   "codemirror_mode": {
    "name": "ipython",
    "version": 3
   },
   "file_extension": ".py",
   "mimetype": "text/x-python",
   "name": "python",
   "nbconvert_exporter": "python",
   "pygments_lexer": "ipython3",
   "version": "3.6.4"
  }
 },
 "nbformat": 4,
 "nbformat_minor": 2
}
